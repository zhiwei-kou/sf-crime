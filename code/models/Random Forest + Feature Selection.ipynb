{
 "cells": [
  {
   "cell_type": "code",
   "execution_count": 24,
   "metadata": {},
   "outputs": [],
   "source": [
    "import copy\n",
    "import numpy as np\n",
    "import pandas as pd\n",
    "import matplotlib.pyplot as plt\n",
    "from sklearn.ensemble import RandomForestRegressor\n",
    "from sklearn.feature_selection import SelectFromModel\n",
    "from sklearn.model_selection import train_test_split\n",
    "from rfpimp import oob_regression_r2_score\n",
    "\n",
    "# 0. set parameters\n",
    "fts = 10  # features shown in plot\n",
    "thr = 0.05"
   ]
  },
  {
   "cell_type": "code",
   "execution_count": 25,
   "metadata": {},
   "outputs": [
    {
     "data": {
      "text/plain": [
       "RandomForestRegressor(bootstrap=True, criterion='mse', max_depth=None,\n",
       "           max_features='auto', max_leaf_nodes=None,\n",
       "           min_impurity_decrease=0.0, min_impurity_split=None,\n",
       "           min_samples_leaf=1, min_samples_split=2,\n",
       "           min_weight_fraction_leaf=0.0, n_estimators=100, n_jobs=-1,\n",
       "           oob_score=True, random_state=None, verbose=0, warm_start=False)"
      ]
     },
     "execution_count": 25,
     "metadata": {},
     "output_type": "execute_result"
    }
   ],
   "source": [
    "# 1. get data\n",
    "'''\n",
    "agg_data = pd.read_csv('data_include_all_features.csv')\n",
    "agg_data = agg_data.drop(columns=['V1', 'year', 'quarter', 'GEOID', 'lat', 'lng', 'NAME'])\n",
    "X_train, X_test, y_train, y_test = train_test_split(agg_data.drop(columns='N'), agg_data['N'], test_size=0.2)\n",
    "'''\n",
    "agg_data = pd.read_csv(\"crime_data\\\\crime_assualt_data_yearly.csv\", index_col=0)\n",
    "agg_data = agg_data.drop(columns=['year', 'GEOID'])\n",
    "X_train, X_test, y_train, y_test = train_test_split(agg_data.drop(columns='crime'), agg_data['crime'], test_size=0.2)\n",
    "\n",
    "X_train[np.isnan(X_train)] = 0  # robbery documented as NA when it's zero\n",
    "X_test[np.isnan(X_test)] = 0\n",
    "X_train['random'] = np.random.random(size=len(X_train))  # add a column of random numbers\n",
    "X_test['random'] = np.random.random(size=len(X_test))\n",
    "\n",
    "rf = RandomForestRegressor(\n",
    "         n_estimators=100,\n",
    "         min_samples_leaf=1,\n",
    "         n_jobs=-1,\n",
    "         oob_score=True)\n",
    "rf.fit(X_train, y_train)"
   ]
  },
  {
   "cell_type": "code",
   "execution_count": 26,
   "metadata": {},
   "outputs": [
    {
     "name": "stdout",
     "output_type": "stream",
     "text": [
      "Feature ranking:\n",
      "1. feature 67 : Income_in_the_past_12_months_below_poverty_level_Male (0.198517)\n",
      "2. feature 71 : Income_in_the_past_12_months_below_poverty_level_Male_Not_in_labor_force (0.124795)\n",
      "3. feature 159 : prop_male (0.081655)\n",
      "4. feature 141 : With_income_10000_to_14999 (0.071704)\n",
      "5. feature 123 : Moved_within_same_county_Male (0.041459)\n",
      "6. feature 127 : Not_Hispanic_or_Latino_Black_or_African_American_alone (0.031654)\n",
      "7. feature 162 : prop_under_poverty_level (0.025677)\n",
      "8. feature 171 : mta_stops (0.022564)\n",
      "9. feature 161 : prop_hispanic (0.019151)\n",
      "10. feature 135 : Renter_occupied (0.017438)\n",
      "\n",
      "Random feature importance: 0.000368\n"
     ]
    },
    {
     "data": {
      "image/png": "[encoded data removed]",
      "text/plain": [
       "<Figure size 432x288 with 1 Axes>"
      ]
     },
     "metadata": {},
     "output_type": "display_data"
    }
   ],
   "source": [
    "# 2. plot feature importance\n",
    "importances = rf.feature_importances_\n",
    "std = np.std([tree.feature_importances_ for tree in rf.estimators_],\n",
    "             axis=0)\n",
    "indices = np.argsort(importances)[::-1][:fts]\n",
    "\n",
    "# Print the feature ranking\n",
    "print(\"Feature ranking:\")\n",
    "\n",
    "for f in range(fts):\n",
    "    print(\"%d. feature %d : %s (%f)\" % (f + 1, indices[f], X_train.columns.values[indices[f]], importances[indices[f]]))\n",
    "print(\"\\nRandom feature importance: %f\" % importances[-1])\n",
    "    \n",
    "# Plot the feature importances of the forest\n",
    "plt.figure()\n",
    "plt.title(\"Feature importances\")\n",
    "plt.bar(range(fts), importances[indices],\n",
    "       color=\"r\", yerr=std[indices], align=\"center\")\n",
    "plt.xticks(range(fts), indices)\n",
    "plt.xlim([-1, fts])\n",
    "plt.show()"
   ]
  },
  {
   "cell_type": "code",
   "execution_count": 27,
   "metadata": {},
   "outputs": [
    {
     "name": "stdout",
     "output_type": "stream",
     "text": [
      "Index(['Income_in_the_past_12_months_below_poverty_level_Male',\n",
      "       'Income_in_the_past_12_months_below_poverty_level_Male_Not_in_labor_force',\n",
      "       'With_income_10000_to_14999', 'prop_male'],\n",
      "      dtype='object')\n"
     ]
    }
   ],
   "source": [
    "# 3 feature selection\n",
    "sel = SelectFromModel(RandomForestRegressor(n_estimators=100), threshold=thr)\n",
    "sel.fit(X_train, y_train)\n",
    "\n",
    "selected_feat = X_train.columns[(sel.get_support())]\n",
    "n_features = len(selected_feat)\n",
    "print(selected_feat)"
   ]
  },
  {
   "cell_type": "code",
   "execution_count": 28,
   "metadata": {},
   "outputs": [
    {
     "name": "stdout",
     "output_type": "stream",
     "text": [
      "Feature ranking:\n",
      "1. feature 67 : Income_in_the_past_12_months_below_poverty_level_Male (0.185169)\n",
      "2. feature 159 : prop_male (0.181491)\n",
      "3. feature 71 : Income_in_the_past_12_months_below_poverty_level_Male_Not_in_labor_force (0.047717)\n",
      "4. feature 123 : Moved_within_same_county_Male (0.039107)\n",
      "5. feature 171 : mta_stops (0.035764)\n",
      "6. feature 162 : prop_under_poverty_level (0.029694)\n",
      "7. feature 127 : Not_Hispanic_or_Latino_Black_or_African_American_alone (0.027582)\n",
      "8. feature 141 : With_income_10000_to_14999 (0.025476)\n",
      "9. feature 161 : prop_hispanic (0.022852)\n",
      "10. feature 163 : prop_rented_to_owned (0.020959)\n",
      "\n",
      "Random feature importance: -0.000256\n"
     ]
    },
    {
     "data": {
      "image/png": "[encoded data removed]",
      "text/plain": [
       "<Figure size 432x288 with 1 Axes>"
      ]
     },
     "metadata": {},
     "output_type": "display_data"
    }
   ],
   "source": [
    "# 4: other importance\n",
    "# 4.1 permutation importance\n",
    "def permutation_importances(rf, X_train, y_train, metric):\n",
    "    baseline = metric(rf, X_train, y_train)\n",
    "    imp = []\n",
    "    for col in X_train.columns:\n",
    "        save = X_train[col].copy()\n",
    "        X_train[col] = np.random.permutation(X_train[col])\n",
    "        m = metric(rf, X_train, y_train)\n",
    "        X_train[col] = save\n",
    "        imp.append(baseline - m)\n",
    "    return np.array(imp)\n",
    "\n",
    "importances = permutation_importances(rf, X_train, y_train, oob_regression_r2_score)\n",
    "indices = np.argsort(importances)[::-1][:fts]\n",
    "\n",
    "# Print the feature ranking\n",
    "print(\"Feature ranking:\")\n",
    "\n",
    "for f in range(fts):\n",
    "    print(\"%d. feature %d : %s (%f)\" % (f + 1, indices[f], X_train.columns.values[indices[f]], importances[indices[f]]))\n",
    "print(\"\\nRandom feature importance: %f\" % importances[-1])\n",
    "\n",
    "# Plot the feature importances of the forest\n",
    "plt.figure()\n",
    "plt.title(\"Feature importances\")\n",
    "plt.bar(range(fts), importances[indices],\n",
    "       color=\"r\", align=\"center\")\n",
    "plt.xticks(range(fts), indices)\n",
    "plt.xlim([-1, fts])\n",
    "plt.show()"
   ]
  },
  {
   "cell_type": "code",
   "execution_count": 29,
   "metadata": {},
   "outputs": [
    {
     "name": "stdout",
     "output_type": "stream",
     "text": [
      "Feature ranking:\n",
      "1. prop_male (0.015814)\n",
      "2. racial_index (0.003560)\n",
      "3. Same_house_1_year_ago (0.003261)\n",
      "4. mta_stops (0.003113)\n",
      "5. Female_10th_grade (0.002943)\n",
      "6. Moved_from_different_county_within_same_state_Female (0.002345)\n",
      "7. Income_in_the_past_12_months_below_poverty_level_Male_In_labor_force (0.001702)\n",
      "8. water (0.001653)\n",
      "9. Male_50_to_54_years (0.000950)\n",
      "10. less_hs (0.000764)\n",
      "\n",
      "Random feature importance: -0.003618\n"
     ]
    },
    {
     "data": {
      "image/png": "[encoded data removed]",
      "text/plain": [
       "<Figure size 432x288 with 1 Axes>"
      ]
     },
     "metadata": {},
     "output_type": "display_data"
    }
   ],
   "source": [
    "# 4.2 drop-column importance\n",
    "def dropcol_importances(rf, X_train, y_train):\n",
    "    rf_ = copy.deepcopy(rf)\n",
    "    rf_.random_state = 999\n",
    "    rf_.fit(X_train, y_train)\n",
    "    baseline = rf_.oob_score_\n",
    "    imp = []\n",
    "    for col in X_train.columns:\n",
    "        X = X_train.drop(col, axis=1)\n",
    "        rf_ = copy.deepcopy(rf)\n",
    "        rf_.random_state = 999\n",
    "        rf_.fit(X, y_train)\n",
    "        o = rf_.oob_score_\n",
    "        imp.append(baseline - o)\n",
    "    imp = np.array(imp)\n",
    "    I = pd.DataFrame(\n",
    "            data={'Feature':X_train.columns,\n",
    "                  'Importance':imp})\n",
    "    I = I.set_index('Feature')\n",
    "    I = I.sort_values('Importance', ascending=False)\n",
    "    return I\n",
    "\n",
    "importances = dropcol_importances(rf, X_train, y_train)\n",
    "\n",
    "# Print the feature ranking\n",
    "print(\"Feature ranking:\")\n",
    "\n",
    "for f in range(fts):\n",
    "    print(\"%d. %s (%f)\" % (f + 1, importances.index.values[f], importances.iloc[f, 0]))\n",
    "print(\"\\nRandom feature importance: %f\" % importances.loc['random', 'Importance'])\n",
    "\n",
    "# Plot the feature importances of the forest\n",
    "plt.figure()\n",
    "plt.title(\"Feature importances\")\n",
    "plt.bar(range(fts), importances.iloc[0:fts, 0],\n",
    "       color=\"r\", align=\"center\")\n",
    "plt.xticks(range(fts), [\"ft. %d.\" % (f + 1) for f in range(fts)])\n",
    "plt.xlim([-1, fts])\n",
    "plt.show()"
   ]
  },
  {
   "cell_type": "code",
   "execution_count": null,
   "metadata": {},
   "outputs": [],
   "source": []
  }
 ],
 "metadata": {
  "kernelspec": {
   "display_name": "Python 3",
   "language": "python",
   "name": "python3"
  },
  "language_info": {
   "codemirror_mode": {
    "name": "ipython",
    "version": 3
   },
   "file_extension": ".py",
   "mimetype": "text/x-python",
   "name": "python",
   "nbconvert_exporter": "python",
   "pygments_lexer": "ipython3",
   "version": "3.6.5"
  }
 },
 "nbformat": 4,
 "nbformat_minor": 2
}
