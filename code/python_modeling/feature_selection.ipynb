{
 "cells": [
  {
   "cell_type": "code",
   "execution_count": 48,
   "metadata": {},
   "outputs": [
    {
     "name": "stdout",
     "output_type": "stream",
     "text": [
      "sys.version_info(major=3, minor=6, micro=8, releaselevel='final', serial=0)\n",
      "Python Version: 3.6.8\n"
     ]
    }
   ],
   "source": [
    "%matplotlib inline\n",
    "import matplotlib.pyplot as plt\n",
    "import numpy as np\n",
    "import scipy as sp\n",
    "import pandas as pd\n",
    "import sys\n",
    "import platform\n",
    "import sklearn\n",
    "\n",
    "print(sys.version_info)\n",
    "print(\"Python Version: \" + str(platform.python_version()))"
   ]
  },
  {
   "cell_type": "code",
   "execution_count": 51,
   "metadata": {},
   "outputs": [],
   "source": [
    "from sklearn.feature_selection import *"
   ]
  },
  {
   "cell_type": "code",
   "execution_count": 97,
   "metadata": {},
   "outputs": [
    {
     "data": {
      "text/plain": [
       "(1909, 176)"
      ]
     },
     "execution_count": 97,
     "metadata": {},
     "output_type": "execute_result"
    }
   ],
   "source": [
    "#path = \"/Users/zhiwei/Documents/Spring-2019/STAT-222/sf-crime/\"\n",
    "crime_data = pd.read_csv(\"../../data/data_include_all_features.csv\")\n",
    "crime_data.shape"
   ]
  },
  {
   "cell_type": "code",
   "execution_count": 75,
   "metadata": {},
   "outputs": [
    {
     "data": {
      "text/plain": [
       "array(['GEOID', 'year', 'quarter', 'N', 'N_calls_311', 'lat', 'lng',\n",
       "       'N_housing', 'V1', 'Estimate_Total.x', 'prop_rented', 'prop_male',\n",
       "       'prop_african_american', 'prop_under_poverty_level',\n",
       "       'prop_vacant_houses', 'prop_stable', 'racial_index',\n",
       "       'income_index', 'age_index', 'working_class', 'land', 'water',\n",
       "       'Estimate_Total.y', 'Female', 'Female_10_to_14_years',\n",
       "       'Female_10th_grade', 'Female_11th_grade',\n",
       "       'Female_12th_grade_no_diploma', 'Female_15_to_17_years',\n",
       "       'Female_18_and_19_years', 'Female_20_years', 'Female_21_years',\n",
       "       'Female_22_to_24_years', 'Female_25_to_29_years',\n",
       "       'Female_30_to_34_years', 'Female_35_to_39_years',\n",
       "       'Female_40_to_44_years', 'Female_45_to_49_years',\n",
       "       'Female_5_to_9_years', 'Female_50_to_54_years',\n",
       "       'Female_55_to_59_years', 'Female_5th_and_6th_grade',\n",
       "       'Female_60_and_61_years', 'Female_62_to_64_years',\n",
       "       'Female_65_and_66_years', 'Female_67_to_69_years',\n",
       "       'Female_70_to_74_years', 'Female_75_to_79_years',\n",
       "       'Female_7th_and_8th_grade', 'Female_80_to_84_years',\n",
       "       'Female_85_years_and_over', 'Female_9th_grade',\n",
       "       \"Female_Associate's_degree\", \"Female_Bachelor's_degree\",\n",
       "       'Female_Doctorate_degree',\n",
       "       'Female_High_school_graduate_(includes_equivalency)',\n",
       "       \"Female_Master's_degree\", 'Female_No_schooling_completed',\n",
       "       'Female_Nursery_to_4th_grade', 'Female_Professional_school_degree',\n",
       "       'Female_Some_college_1_or_more_years_no_degree',\n",
       "       'Female_Some_college_less_than_1_year', 'Female_Under_5_years',\n",
       "       'Hispanic_or_Latino',\n",
       "       'Hispanic_or_Latino_American_Indian_and_Alaska_Native_alone',\n",
       "       'Hispanic_or_Latino_Asian_alone',\n",
       "       'Hispanic_or_Latino_Black_or_African_American_alone',\n",
       "       'Hispanic_or_Latino_Native_Hawaiian_and_Other_Pacific_Islander_alone',\n",
       "       'Hispanic_or_Latino_Some_other_race_alone',\n",
       "       'Hispanic_or_Latino_Two_or_more_races',\n",
       "       'Hispanic_or_Latino_Two_or_more_races_Two_races_excluding_Some_other_race_and_three_or_more_races',\n",
       "       'Hispanic_or_Latino_Two_or_more_races_Two_races_including_Some_other_race',\n",
       "       'Hispanic_or_Latino_White_alone',\n",
       "       'Income_in_the_past_12_months_at_or_above_poverty_level',\n",
       "       'Income_in_the_past_12_months_at_or_above_poverty_level_Female',\n",
       "       'Income_in_the_past_12_months_at_or_above_poverty_level_Female_In_labor_force',\n",
       "       'Income_in_the_past_12_months_at_or_above_poverty_level_Female_In_labor_force_Employed',\n",
       "       'Income_in_the_past_12_months_at_or_above_poverty_level_Female_In_labor_force_Unemployed',\n",
       "       'Income_in_the_past_12_months_at_or_above_poverty_level_Male',\n",
       "       'Income_in_the_past_12_months_at_or_above_poverty_level_Male_In_labor_force',\n",
       "       'Income_in_the_past_12_months_at_or_above_poverty_level_Male_In_labor_force_Employed',\n",
       "       'Income_in_the_past_12_months_at_or_above_poverty_level_Male_In_labor_force_Unemployed',\n",
       "       'Income_in_the_past_12_months_at_or_above_poverty_level_Male_Not_in_labor_force',\n",
       "       'Income_in_the_past_12_months_below_poverty_level',\n",
       "       'Income_in_the_past_12_months_below_poverty_level_Female',\n",
       "       'Income_in_the_past_12_months_below_poverty_level_Female_In_labor_force',\n",
       "       'Income_in_the_past_12_months_below_poverty_level_Female_In_labor_force_Employed',\n",
       "       'Income_in_the_past_12_months_below_poverty_level_Female_In_labor_force_Unemployed',\n",
       "       'Income_in_the_past_12_months_below_poverty_level_Female_Not_in_labor_force',\n",
       "       'Income_in_the_past_12_months_below_poverty_level_Male',\n",
       "       'Income_in_the_past_12_months_below_poverty_level_Male_In_labor_force',\n",
       "       'Income_in_the_past_12_months_below_poverty_level_Male_In_labor_force_Employed',\n",
       "       'Income_in_the_past_12_months_below_poverty_level_Male_In_labor_force_Unemployed',\n",
       "       'Income_in_the_past_12_months_below_poverty_level_Male_Not_in_labor_force',\n",
       "       'Male', 'Male_10_to_14_years', 'Male_10th_grade',\n",
       "       'Male_11th_grade', 'Male_12th_grade_no_diploma',\n",
       "       'Male_15_to_17_years', 'Male_18_and_19_years', 'Male_20_years',\n",
       "       'Male_21_years', 'Male_22_to_24_years', 'Male_25_to_29_years',\n",
       "       'Male_30_to_34_years', 'Male_35_to_39_years',\n",
       "       'Male_40_to_44_years', 'Male_45_to_49_years', 'Male_5_to_9_years',\n",
       "       'Male_50_to_54_years', 'Male_55_to_59_years',\n",
       "       'Male_5th_and_6th_grade', 'Male_60_and_61_years',\n",
       "       'Male_62_to_64_years', 'Male_65_and_66_years',\n",
       "       'Male_67_to_69_years', 'Male_70_to_74_years',\n",
       "       'Male_75_to_79_years', 'Male_7th_and_8th_grade',\n",
       "       'Male_80_to_84_years', 'Male_85_years_and_over', 'Male_9th_grade',\n",
       "       \"Male_Associate's_degree\", \"Male_Bachelor's_degree\",\n",
       "       'Male_Doctorate_degree',\n",
       "       'Male_High_school_graduate_(includes_equivalency)',\n",
       "       \"Male_Master's_degree\", 'Male_No_schooling_completed',\n",
       "       'Male_Nursery_to_4th_grade', 'Male_Professional_school_degree',\n",
       "       'Male_Some_college_1_or_more_years_no_degree',\n",
       "       'Male_Some_college_less_than_1_year', 'Male_Under_5_years',\n",
       "       'Moved_from_abroad', 'Moved_from_abroad_Female',\n",
       "       'Moved_from_abroad_Male',\n",
       "       'Moved_from_different_county_within_same_state',\n",
       "       'Moved_from_different_county_within_same_state_Female',\n",
       "       'Moved_from_different_county_within_same_state_Male',\n",
       "       'Moved_from_different_state', 'Moved_from_different_state_Female',\n",
       "       'Moved_from_different_state_Male', 'Moved_within_same_county',\n",
       "       'Moved_within_same_county_Female', 'Moved_within_same_county_Male',\n",
       "       'Not_Hispanic_or_Latino',\n",
       "       'Not_Hispanic_or_Latino_American_Indian_and_Alaska_Native_alone',\n",
       "       'Not_Hispanic_or_Latino_Asian_alone',\n",
       "       'Not_Hispanic_or_Latino_Black_or_African_American_alone',\n",
       "       'Not_Hispanic_or_Latino_Native_Hawaiian_and_Other_Pacific_Islander_alone',\n",
       "       'Not_Hispanic_or_Latino_Some_other_race_alone',\n",
       "       'Not_Hispanic_or_Latino_Two_or_more_races',\n",
       "       'Not_Hispanic_or_Latino_Two_or_more_races_Two_races_excluding_Some_other_race_and_three_or_more_races',\n",
       "       'Not_Hispanic_or_Latino_Two_or_more_races_Two_races_including_Some_other_race',\n",
       "       'Not_Hispanic_or_Latino_White_alone', 'Owner_occupied',\n",
       "       'Renter_occupied', 'Same_house_1_year_ago',\n",
       "       'Same_house_1_year_ago_Female', 'Same_house_1_year_ago_Male',\n",
       "       'With_income', 'With_income_1_to_9999_or_loss',\n",
       "       'With_income_10000_to_14999', 'With_income_15000_to_24999',\n",
       "       'With_income_25000_to_34999', 'With_income_35000_to_49999',\n",
       "       'With_income_50000_to_64999', 'With_income_65000_to_74999',\n",
       "       'With_income_75000_or_more', 'N_theft', 'N_robbery', 'N_assualt',\n",
       "       'N_vehicle_theft', 'N_burglary', 'NAME'], dtype=object)"
      ]
     },
     "execution_count": 75,
     "metadata": {},
     "output_type": "execute_result"
    }
   ],
   "source": [
    "crime_data.columns.values"
   ]
  },
  {
   "cell_type": "code",
   "execution_count": 81,
   "metadata": {},
   "outputs": [
    {
     "name": "stdout",
     "output_type": "stream",
     "text": [
      "                                                 Specs        Score\n",
      "89   Income_in_the_past_12_months_below_poverty_lev...  2596.043551\n",
      "85   Income_in_the_past_12_months_below_poverty_lev...  1737.773445\n",
      "0                                          N_calls_311  1402.342070\n",
      "79    Income_in_the_past_12_months_below_poverty_level  1055.141847\n",
      "159                         With_income_10000_to_14999   957.664154\n",
      "153                                    Renter_occupied   899.760178\n",
      "141                      Moved_within_same_county_Male   806.769390\n",
      "90                                                Male   713.681598\n",
      "14                                           age_index   710.935982\n",
      "135  Moved_from_different_county_within_same_state_...   652.902260\n",
      "22                                   Female_11th_grade   586.565563\n",
      "106                                Male_50_to_54_years   567.325075\n",
      "138                    Moved_from_different_state_Male   566.044108\n",
      "139                           Moved_within_same_county   554.175114\n",
      "103                                Male_40_to_44_years   542.042556\n",
      "136                         Moved_from_different_state   518.434278\n",
      "102                                Male_35_to_39_years   516.887827\n",
      "101                                Male_30_to_34_years   516.320734\n",
      "93                                     Male_11th_grade   498.285502\n",
      "133      Moved_from_different_county_within_same_state   466.257716\n"
     ]
    }
   ],
   "source": [
    "X = crime_data.iloc[:,4:170]\n",
    "y = crime_data.N\n",
    "\n",
    "#apply SelectKBest class to extract top 20 best features\n",
    "bestfeatures = SelectKBest(score_func=f_regression, k=20)\n",
    "fit = bestfeatures.fit(X,y)\n",
    "dfscores = pd.DataFrame(fit.scores_)\n",
    "dfcolumns = pd.DataFrame(X.columns)\n",
    "\n",
    "#concat two dataframes for better visualization \n",
    "featureScores = pd.concat([dfcolumns,dfscores],axis=1)\n",
    "featureScores.columns = ['Specs','Score']  #naming the dataframe columns\n",
    "print(featureScores.nlargest(20,'Score'))  #print 20 best features"
   ]
  },
  {
   "cell_type": "code",
   "execution_count": 90,
   "metadata": {},
   "outputs": [
    {
     "name": "stdout",
     "output_type": "stream",
     "text": [
      "                                                 Specs        Score\n",
      "89   Income_in_the_past_12_months_below_poverty_lev...  1694.398689\n",
      "0                                          N_calls_311  1205.062728\n",
      "85   Income_in_the_past_12_months_below_poverty_lev...   978.933891\n",
      "141                      Moved_within_same_county_Male   946.337002\n",
      "135  Moved_from_different_county_within_same_state_...   937.179915\n",
      "14                                           age_index   855.193794\n",
      "153                                    Renter_occupied   798.245916\n",
      "136                         Moved_from_different_state   732.981934\n",
      "133      Moved_from_different_county_within_same_state   722.341315\n",
      "90                                                Male   720.701826\n",
      "139                           Moved_within_same_county   679.215249\n",
      "138                    Moved_from_different_state_Male   658.564277\n",
      "101                                Male_30_to_34_years   655.983961\n",
      "103                                Male_40_to_44_years   632.926916\n",
      "102                                Male_35_to_39_years   624.626385\n",
      "120                             Male_Bachelor's_degree   624.535932\n",
      "79    Income_in_the_past_12_months_below_poverty_level   617.715210\n",
      "106                                Male_50_to_54_years   561.007429\n",
      "165                          With_income_75000_or_more   553.313126\n",
      "76   Income_in_the_past_12_months_at_or_above_pover...   540.054743\n"
     ]
    }
   ],
   "source": [
    "X = crime_data.iloc[:,4:170][-np.isnan(crime_data.N_theft)]\n",
    "y = crime_data.N_theft[-np.isnan(crime_data.N_theft)]\n",
    "\n",
    "#apply SelectKBest class to extract top 20 best features\n",
    "bestfeatures = SelectKBest(score_func=f_regression, k=20)\n",
    "fit = bestfeatures.fit(X,y)\n",
    "dfscores = pd.DataFrame(fit.scores_)\n",
    "dfcolumns = pd.DataFrame(X.columns)\n",
    "\n",
    "#concat two dataframes for better visualization \n",
    "featureScores = pd.concat([dfcolumns,dfscores],axis=1)\n",
    "featureScores.columns = ['Specs','Score']  #naming the dataframe columns\n",
    "print(featureScores.nlargest(20,'Score'))  #print 20 best features"
   ]
  },
  {
   "cell_type": "code",
   "execution_count": 91,
   "metadata": {},
   "outputs": [
    {
     "name": "stdout",
     "output_type": "stream",
     "text": [
      "                                                 Specs        Score\n",
      "89   Income_in_the_past_12_months_below_poverty_lev...  2017.256679\n",
      "85   Income_in_the_past_12_months_below_poverty_lev...  1595.167022\n",
      "159                         With_income_10000_to_14999   982.166935\n",
      "79    Income_in_the_past_12_months_below_poverty_level   861.224699\n",
      "0                                          N_calls_311   653.078342\n",
      "22                                   Female_11th_grade   555.967344\n",
      "153                                    Renter_occupied   555.189856\n",
      "104                                Male_45_to_49_years   498.384979\n",
      "93                                     Male_11th_grade   437.409708\n",
      "122   Male_High_school_graduate_(includes_equivalency)   393.830524\n",
      "90                                                Male   380.293012\n",
      "106                                Male_50_to_54_years   375.639314\n",
      "141                      Moved_within_same_county_Male   317.115029\n",
      "84   Income_in_the_past_12_months_below_poverty_lev...   304.172024\n",
      "39                               Female_62_to_64_years   297.782900\n",
      "14                                           age_index   295.594941\n",
      "109                               Male_60_and_61_years   269.222709\n",
      "135  Moved_from_different_county_within_same_state_...   250.820818\n",
      "103                                Male_40_to_44_years   247.910858\n",
      "128                 Male_Some_college_less_than_1_year   237.536002\n"
     ]
    }
   ],
   "source": [
    "X = crime_data.iloc[:,4:170][-np.isnan(crime_data.N_robbery)]\n",
    "y = crime_data.N_robbery[-np.isnan(crime_data.N_robbery)]\n",
    "\n",
    "#apply SelectKBest class to extract top 20 best features\n",
    "bestfeatures = SelectKBest(score_func=f_regression, k=20)\n",
    "fit = bestfeatures.fit(X,y)\n",
    "dfscores = pd.DataFrame(fit.scores_)\n",
    "dfcolumns = pd.DataFrame(X.columns)\n",
    "\n",
    "#concat two dataframes for better visualization \n",
    "featureScores = pd.concat([dfcolumns,dfscores],axis=1)\n",
    "featureScores.columns = ['Specs','Score']  #naming the dataframe columns\n",
    "print(featureScores.nlargest(20,'Score'))  #print 20 best features"
   ]
  },
  {
   "cell_type": "code",
   "execution_count": 92,
   "metadata": {},
   "outputs": [
    {
     "name": "stdout",
     "output_type": "stream",
     "text": [
      "                                                 Specs        Score\n",
      "89   Income_in_the_past_12_months_below_poverty_lev...  2401.665445\n",
      "85   Income_in_the_past_12_months_below_poverty_lev...  1894.323092\n",
      "0                                          N_calls_311  1492.576538\n",
      "79    Income_in_the_past_12_months_below_poverty_level  1208.420633\n",
      "159                         With_income_10000_to_14999  1182.284004\n",
      "153                                    Renter_occupied   745.169459\n",
      "22                                   Female_11th_grade   704.859501\n",
      "84   Income_in_the_past_12_months_below_poverty_lev...   538.456170\n",
      "93                                     Male_11th_grade   530.940882\n",
      "141                      Moved_within_same_county_Male   514.635135\n",
      "90                                                Male   509.025682\n",
      "104                                Male_45_to_49_years   460.090138\n",
      "14                                           age_index   448.055662\n",
      "122   Male_High_school_graduate_(includes_equivalency)   445.210778\n",
      "106                                Male_50_to_54_years   436.103426\n",
      "138                    Moved_from_different_state_Male   393.665476\n",
      "80   Income_in_the_past_12_months_below_poverty_lev...   385.623997\n",
      "135  Moved_from_different_county_within_same_state_...   362.631931\n",
      "127        Male_Some_college_1_or_more_years_no_degree   345.106019\n",
      "102                                Male_35_to_39_years   334.629799\n"
     ]
    }
   ],
   "source": [
    "X = crime_data.iloc[:,4:170][-np.isnan(crime_data.N_assualt)]\n",
    "y = crime_data.N_assualt[-np.isnan(crime_data.N_assualt)]\n",
    "\n",
    "#apply SelectKBest class to extract top 20 best features\n",
    "bestfeatures = SelectKBest(score_func=f_regression, k=20)\n",
    "fit = bestfeatures.fit(X,y)\n",
    "dfscores = pd.DataFrame(fit.scores_)\n",
    "dfcolumns = pd.DataFrame(X.columns)\n",
    "\n",
    "#concat two dataframes for better visualization \n",
    "featureScores = pd.concat([dfcolumns,dfscores],axis=1)\n",
    "featureScores.columns = ['Specs','Score']  #naming the dataframe columns\n",
    "print(featureScores.nlargest(20,'Score'))  #print 20 best features"
   ]
  },
  {
   "cell_type": "code",
   "execution_count": 93,
   "metadata": {},
   "outputs": [
    {
     "name": "stdout",
     "output_type": "stream",
     "text": [
      "                                                 Specs        Score\n",
      "0                                          N_calls_311  1065.330444\n",
      "103                                Male_40_to_44_years   532.978111\n",
      "90                                                Male   507.959165\n",
      "14                                           age_index   477.944836\n",
      "75   Income_in_the_past_12_months_at_or_above_pover...   435.019778\n",
      "76   Income_in_the_past_12_months_at_or_above_pover...   434.013738\n",
      "102                                Male_35_to_39_years   395.613661\n",
      "2                                                  lng   384.477286\n",
      "89   Income_in_the_past_12_months_below_poverty_lev...   377.020260\n",
      "74   Income_in_the_past_12_months_at_or_above_pover...   367.583571\n",
      "106                                Male_50_to_54_years   363.564557\n",
      "101                                Male_30_to_34_years   363.063791\n",
      "157                                        With_income   357.134933\n",
      "85   Income_in_the_past_12_months_below_poverty_lev...   339.215487\n",
      "156                         Same_house_1_year_ago_Male   331.113474\n",
      "159                         With_income_10000_to_14999   326.229029\n",
      "141                      Moved_within_same_county_Male   317.692187\n",
      "5                                     Estimate_Total.x   305.924288\n",
      "18                                    Estimate_Total.y   305.924288\n",
      "30                               Female_30_to_34_years   303.947743\n"
     ]
    }
   ],
   "source": [
    "X = crime_data.iloc[:,4:170][-np.isnan(crime_data.N_vehicle_theft)]\n",
    "y = crime_data.N_vehicle_theft[-np.isnan(crime_data.N_vehicle_theft)]\n",
    "\n",
    "#apply SelectKBest class to extract top 20 best features\n",
    "bestfeatures = SelectKBest(score_func=f_regression, k=20)\n",
    "fit = bestfeatures.fit(X,y)\n",
    "dfscores = pd.DataFrame(fit.scores_)\n",
    "dfcolumns = pd.DataFrame(X.columns)\n",
    "\n",
    "#concat two dataframes for better visualization \n",
    "featureScores = pd.concat([dfcolumns,dfscores],axis=1)\n",
    "featureScores.columns = ['Specs','Score']  #naming the dataframe columns\n",
    "print(featureScores.nlargest(20,'Score'))  #print 20 best features"
   ]
  },
  {
   "cell_type": "code",
   "execution_count": 94,
   "metadata": {},
   "outputs": [
    {
     "name": "stdout",
     "output_type": "stream",
     "text": [
      "                                                 Specs        Score\n",
      "89   Income_in_the_past_12_months_below_poverty_lev...  1240.928534\n",
      "0                                          N_calls_311   899.650384\n",
      "85   Income_in_the_past_12_months_below_poverty_lev...   827.297676\n",
      "141                      Moved_within_same_county_Male   790.440947\n",
      "153                                    Renter_occupied   783.317562\n",
      "135  Moved_from_different_county_within_same_state_...   769.847576\n",
      "14                                           age_index   755.193859\n",
      "136                         Moved_from_different_state   724.146434\n",
      "138                    Moved_from_different_state_Male   696.487709\n",
      "139                           Moved_within_same_county   628.326192\n",
      "101                                Male_30_to_34_years   593.333756\n",
      "133      Moved_from_different_county_within_same_state   589.297246\n",
      "79    Income_in_the_past_12_months_below_poverty_level   583.732486\n",
      "90                                                Male   571.047455\n",
      "102                                Male_35_to_39_years   549.920027\n",
      "120                             Male_Bachelor's_degree   518.594365\n",
      "103                                Male_40_to_44_years   505.678588\n",
      "6                                          prop_rented   479.949475\n",
      "137                  Moved_from_different_state_Female   474.142596\n",
      "165                          With_income_75000_or_more   470.313360\n"
     ]
    }
   ],
   "source": [
    "X = crime_data.iloc[:,4:170][-np.isnan(crime_data.N_burglary)]\n",
    "y = crime_data.N_burglary[-np.isnan(crime_data.N_burglary)]\n",
    "\n",
    "#apply SelectKBest class to extract top 20 best features\n",
    "bestfeatures = SelectKBest(score_func=f_regression, k=20)\n",
    "fit = bestfeatures.fit(X,y)\n",
    "dfscores = pd.DataFrame(fit.scores_)\n",
    "dfcolumns = pd.DataFrame(X.columns)\n",
    "\n",
    "#concat two dataframes for better visualization \n",
    "featureScores = pd.concat([dfcolumns,dfscores],axis=1)\n",
    "featureScores.columns = ['Specs','Score']  #naming the dataframe columns\n",
    "print(featureScores.nlargest(20,'Score'))  #print 20 best features"
   ]
  },
  {
   "cell_type": "code",
   "execution_count": null,
   "metadata": {},
   "outputs": [],
   "source": []
  }
 ],
 "metadata": {
  "kernelspec": {
   "display_name": "Python 3",
   "language": "python",
   "name": "python3"
  },
  "language_info": {
   "codemirror_mode": {
    "name": "ipython",
    "version": 3
   },
   "file_extension": ".py",
   "mimetype": "text/x-python",
   "name": "python",
   "nbconvert_exporter": "python",
   "pygments_lexer": "ipython3",
   "version": "3.6.8"
  }
 },
 "nbformat": 4,
 "nbformat_minor": 2
}
